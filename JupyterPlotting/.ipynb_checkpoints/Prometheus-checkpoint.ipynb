{
 "cells": [
  {
   "cell_type": "code",
   "execution_count": 23,
   "metadata": {},
   "outputs": [],
   "source": [
    "import json\n",
    "import urllib3\n",
    "import time\n",
    "import urllib.request"
   ]
  },
  {
   "cell_type": "code",
   "execution_count": 24,
   "metadata": {},
   "outputs": [],
   "source": [
    "def queryBuilder(q1):\n",
    "    url   = 'http://moe.eecs.qmul.ac.uk:8888/api/v1/query?'\n",
    "    query = 'query='+q1\n",
    "    return url+query\n",
    "\n",
    "#query_range?query=up&start=2015-07-01T20:10:30.781Z&end=2015-07-01T20:11:00.781Z&step=15s\n",
    "def queryRangeBuilder(query,start,end):\n",
    "    url   = 'http://moe.eecs.qmul.ac.uk:8888/api/v1/query_range?'\n",
    "    query = 'query='+ query\n",
    "    start = 'start='+ start\n",
    "    end   = 'end='  + end\n",
    "    steps = 'step=10s' \n",
    "    return url+query+\"&\"+start+\"&\"+end+\"&\"+steps"
   ]
  },
  {
   "cell_type": "code",
   "execution_count": 27,
   "metadata": {},
   "outputs": [
    {
     "name": "stdout",
     "output_type": "stream",
     "text": [
      "1\n"
     ]
    }
   ],
   "source": [
    "\n",
    "\n",
    "\n",
    "response = wp = urllib.request.urlopen(queryBuilder('akka_system_dead_letters_total'))\n",
    "parsed = json.load(response)[\"data\"][\"result\"]\n",
    "\n",
    "print(parsed)"
   ]
  },
  {
   "cell_type": "code",
   "execution_count": null,
   "metadata": {},
   "outputs": [],
   "source": []
  }
 ],
 "metadata": {
  "kernelspec": {
   "display_name": "Python 3",
   "language": "python",
   "name": "python3"
  },
  "language_info": {
   "codemirror_mode": {
    "name": "ipython",
    "version": 3
   },
   "file_extension": ".py",
   "mimetype": "text/x-python",
   "name": "python",
   "nbconvert_exporter": "python",
   "pygments_lexer": "ipython3",
   "version": "3.6.5"
  }
 },
 "nbformat": 4,
 "nbformat_minor": 2
}
