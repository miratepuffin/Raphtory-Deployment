{
 "cells": [
  {
   "cell_type": "code",
   "execution_count": 117,
   "metadata": {},
   "outputs": [],
   "source": [
    "import json\n",
    "import urllib3\n",
    "import time\n",
    "import urllib.request\n",
    "import pandas as pd\n",
    "from pandas.io.json import json_normalize\n",
    "from numpy import nan\n",
    "%matplotlib inline\n",
    "\n",
    "import matplotlib\n",
    "import numpy as np\n",
    "import matplotlib.pyplot as plt"
   ]
  },
  {
   "cell_type": "code",
   "execution_count": 118,
   "metadata": {},
   "outputs": [
    {
     "name": "stdout",
     "output_type": "stream",
     "text": [
      "  metric.component   metric.instance metric.job_x metric.mode  \\\n",
      "3   system-metrics  10.0.0.240:11600   prometheus        user   \n",
      "4   system-metrics  10.0.0.241:11600   prometheus        user   \n",
      "\n",
      "                                            values_x        metric.__name__  \\\n",
      "3  [8.533333333333333, 8.533333333333333, 8.53333...  raphtory_mainMessages   \n",
      "4  [8.8, 8.8, 8.8, 8.8, 8.8, 10.6, 10.6, 10.6, 10...  raphtory_mainMessages   \n",
      "\n",
      "       metric.actor metric.job_y   metric.name metric.replica  \\\n",
      "3  PartitionManager   prometheus  messageCount              0   \n",
      "4  PartitionManager   prometheus  messageCount              1   \n",
      "\n",
      "                                            values_y  \n",
      "3  [2321, 2321, 2321, 2321, 2321, 3228, 3228, 322...  \n",
      "4  [2245, 2245, 2245, 2245, 2245, 3265, 3265, 326...  \n"
     ]
    }
   ],
   "source": [
    "def requestData(query):\n",
    "    return json_normalize(json.load(urllib.request.urlopen(query))[\"data\"][\"result\"])\n",
    "\n",
    "def queryBuilder(q1):\n",
    "    url   = 'http://moe.eecs.qmul.ac.uk:8888/api/v1/query?'\n",
    "    query = 'query='+q1\n",
    "    return url+query\n",
    "\n",
    "#query_range?query=up&start=2015-07-01T20:10:30.781Z&end=2015-07-01T20:11:00.781Z&step=15s\n",
    "def queryRangeBuilder(query,start,end):\n",
    "    url   = 'http://moe.eecs.qmul.ac.uk:8888/api/v1/query_range?'\n",
    "    query = 'query='+ query\n",
    "    start = 'start='+ start + \".000Z\"\n",
    "    end   = 'end='  + end   + \".000Z\"\n",
    "    steps = 'step=10s' \n",
    "    return url+query+\"&\"+start+\"&\"+end+\"&\"+steps\n",
    "\n",
    "def cpuVsMainMessages(start,end):\n",
    "    mainMessages = requestData(queryRangeBuilder('raphtory_mainMessages',start,end))\n",
    "    cpuUsage = requestData(queryRangeBuilder(\"rate(process_cpu_sum[180s])/rate(process_cpu_count[180s])\",start,end))\n",
    "    cpuUsage = cpuUsage[cpuUsage[\"metric.mode\"] == \"user\"]\n",
    "    joined = cpuUsage.merge(mainMessages, on=['metric.instance','metric.instance'], how='left')\n",
    "    joined = joined[joined[\"metric.job_y\"] == \"prometheus\"]\n",
    "    joined[\"values_x\"]=joined[\"values_x\"].apply(lambda x: list(map((lambda y: y[1]),x)))\n",
    "    joined[\"values_y\"]=joined[\"values_y\"].apply(lambda x: list(map((lambda y: y[1]),x)))\n",
    "    print(joined)\n",
    "\n",
    "#df['avg'] = df.mean(axis=1)\n",
    "#cpuVsMainMessages(\"2019-05-31T13:49:10\",\"2019-05-31T13:58:58\")\n",
    "cpuVsMainMessages(\"2019-05-31T21:27:19\",\"2019-05-31T21:40:51\")"
   ]
  },
  {
   "cell_type": "code",
   "execution_count": 82,
   "metadata": {},
   "outputs": [
    {
     "ename": "ValueError",
     "evalue": "Must pass DataFrame with boolean values only",
     "output_type": "error",
     "traceback": [
      "\u001b[0;31m---------------------------------------------------------------------------\u001b[0m",
      "\u001b[0;31mValueError\u001b[0m                                Traceback (most recent call last)",
      "\u001b[0;32m<ipython-input-82-a493e947720a>\u001b[0m in \u001b[0;36m<module>\u001b[0;34m\u001b[0m\n\u001b[1;32m      4\u001b[0m \u001b[0;31m#print(parsed)\u001b[0m\u001b[0;34m\u001b[0m\u001b[0;34m\u001b[0m\u001b[0;34m\u001b[0m\u001b[0m\n\u001b[1;32m      5\u001b[0m \u001b[0mnormalised\u001b[0m \u001b[0;34m=\u001b[0m \u001b[0mjson_normalize\u001b[0m\u001b[0;34m(\u001b[0m\u001b[0mparsed\u001b[0m\u001b[0;34m)\u001b[0m\u001b[0;34m\u001b[0m\u001b[0;34m\u001b[0m\u001b[0m\n\u001b[0;32m----> 6\u001b[0;31m \u001b[0mprint\u001b[0m\u001b[0;34m(\u001b[0m\u001b[0mnormalised\u001b[0m\u001b[0;34m[\u001b[0m\u001b[0mnormalised\u001b[0m\u001b[0;34m]\u001b[0m\u001b[0;34m)\u001b[0m\u001b[0;34m\u001b[0m\u001b[0;34m\u001b[0m\u001b[0m\n\u001b[0m",
      "\u001b[0;32m/usr/local/anaconda3/lib/python3.7/site-packages/pandas/core/frame.py\u001b[0m in \u001b[0;36m__getitem__\u001b[0;34m(self, key)\u001b[0m\n\u001b[1;32m   2912\u001b[0m         \u001b[0;31m# Do we have a (boolean) DataFrame?\u001b[0m\u001b[0;34m\u001b[0m\u001b[0;34m\u001b[0m\u001b[0;34m\u001b[0m\u001b[0m\n\u001b[1;32m   2913\u001b[0m         \u001b[0;32mif\u001b[0m \u001b[0misinstance\u001b[0m\u001b[0;34m(\u001b[0m\u001b[0mkey\u001b[0m\u001b[0;34m,\u001b[0m \u001b[0mDataFrame\u001b[0m\u001b[0;34m)\u001b[0m\u001b[0;34m:\u001b[0m\u001b[0;34m\u001b[0m\u001b[0;34m\u001b[0m\u001b[0m\n\u001b[0;32m-> 2914\u001b[0;31m             \u001b[0;32mreturn\u001b[0m \u001b[0mself\u001b[0m\u001b[0;34m.\u001b[0m\u001b[0m_getitem_frame\u001b[0m\u001b[0;34m(\u001b[0m\u001b[0mkey\u001b[0m\u001b[0;34m)\u001b[0m\u001b[0;34m\u001b[0m\u001b[0;34m\u001b[0m\u001b[0m\n\u001b[0m\u001b[1;32m   2915\u001b[0m \u001b[0;34m\u001b[0m\u001b[0m\n\u001b[1;32m   2916\u001b[0m         \u001b[0;31m# Do we have a (boolean) 1d indexer?\u001b[0m\u001b[0;34m\u001b[0m\u001b[0;34m\u001b[0m\u001b[0;34m\u001b[0m\u001b[0m\n",
      "\u001b[0;32m/usr/local/anaconda3/lib/python3.7/site-packages/pandas/core/frame.py\u001b[0m in \u001b[0;36m_getitem_frame\u001b[0;34m(self, key)\u001b[0m\n\u001b[1;32m   3007\u001b[0m     \u001b[0;32mdef\u001b[0m \u001b[0m_getitem_frame\u001b[0m\u001b[0;34m(\u001b[0m\u001b[0mself\u001b[0m\u001b[0;34m,\u001b[0m \u001b[0mkey\u001b[0m\u001b[0;34m)\u001b[0m\u001b[0;34m:\u001b[0m\u001b[0;34m\u001b[0m\u001b[0;34m\u001b[0m\u001b[0m\n\u001b[1;32m   3008\u001b[0m         \u001b[0;32mif\u001b[0m \u001b[0mkey\u001b[0m\u001b[0;34m.\u001b[0m\u001b[0mvalues\u001b[0m\u001b[0;34m.\u001b[0m\u001b[0msize\u001b[0m \u001b[0;32mand\u001b[0m \u001b[0;32mnot\u001b[0m \u001b[0mis_bool_dtype\u001b[0m\u001b[0;34m(\u001b[0m\u001b[0mkey\u001b[0m\u001b[0;34m.\u001b[0m\u001b[0mvalues\u001b[0m\u001b[0;34m)\u001b[0m\u001b[0;34m:\u001b[0m\u001b[0;34m\u001b[0m\u001b[0;34m\u001b[0m\u001b[0m\n\u001b[0;32m-> 3009\u001b[0;31m             \u001b[0;32mraise\u001b[0m \u001b[0mValueError\u001b[0m\u001b[0;34m(\u001b[0m\u001b[0;34m'Must pass DataFrame with boolean values only'\u001b[0m\u001b[0;34m)\u001b[0m\u001b[0;34m\u001b[0m\u001b[0;34m\u001b[0m\u001b[0m\n\u001b[0m\u001b[1;32m   3010\u001b[0m         \u001b[0;32mreturn\u001b[0m \u001b[0mself\u001b[0m\u001b[0;34m.\u001b[0m\u001b[0mwhere\u001b[0m\u001b[0;34m(\u001b[0m\u001b[0mkey\u001b[0m\u001b[0;34m)\u001b[0m\u001b[0;34m\u001b[0m\u001b[0;34m\u001b[0m\u001b[0m\n\u001b[1;32m   3011\u001b[0m \u001b[0;34m\u001b[0m\u001b[0m\n",
      "\u001b[0;31mValueError\u001b[0m: Must pass DataFrame with boolean values only"
     ]
    }
   ],
   "source": [
    "\n",
    "response = urllib.request.urlopen(queryRangeBuilder('raphtory_mainMessages',\"2019-05-31T13:49:10\",\"2019-05-31T13:58:58\"))\n",
    "parsed = json.load(response)[\"data\"][\"result\"]\n",
    "#print(parsed)\n",
    "normalised = json_normalize(parsed)\n",
    "print(normalised[normalised])"
   ]
  },
  {
   "cell_type": "code",
   "execution_count": null,
   "metadata": {},
   "outputs": [],
   "source": []
  }
 ],
 "metadata": {
  "kernelspec": {
   "display_name": "Python 3",
   "language": "python",
   "name": "python3"
  },
  "language_info": {
   "codemirror_mode": {
    "name": "ipython",
    "version": 3
   },
   "file_extension": ".py",
   "mimetype": "text/x-python",
   "name": "python",
   "nbconvert_exporter": "python",
   "pygments_lexer": "ipython3",
   "version": "3.7.3"
  }
 },
 "nbformat": 4,
 "nbformat_minor": 2
}
